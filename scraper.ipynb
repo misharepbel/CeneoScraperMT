{
 "cells": [
  {
   "attachments": {},
   "cell_type": "markdown",
   "metadata": {},
   "source": [
    "# Ceneo Scraper"
   ]
  },
  {
   "attachments": {},
   "cell_type": "markdown",
   "metadata": {},
   "source": [
    "## Biblioteki"
   ]
  },
  {
   "cell_type": "code",
   "execution_count": null,
   "metadata": {},
   "outputs": [],
   "source": [
    "import requests\n",
    "from bs4 import BeautifulSoup"
   ]
  },
  {
   "attachments": {},
   "cell_type": "markdown",
   "metadata": {},
   "source": [
    "## Wysłanie do serwera żądania dostępu do zasobu"
   ]
  },
  {
   "cell_type": "code",
   "execution_count": null,
   "metadata": {},
   "outputs": [],
   "source": [
    "product_id = \"156802519\"\n",
    "url = f\"https://www.ceneo.pl/{product_id}#tab=reviews\"\n",
    "response = requests.get(url)\n",
    "response.status_code"
   ]
  },
  {
   "cell_type": "code",
   "execution_count": null,
   "metadata": {},
   "outputs": [],
   "source": [
    "page_dom = BeautifulSoup(response.text, \"html.parser\")\n",
    "print(type(page_dom))\n",
    "opinions = page_dom.select(\"div.js_product-review\")\n",
    "print(type(opinions))\n",
    "opinion = page_dom.select_one(\"div.js_product-review\")\n",
    "print(type(opinion))\n",
    "print(opinion)"
   ]
  },
  {
   "attachments": {},
   "cell_type": "markdown",
   "metadata": {},
   "source": [
    "## Ekstrakcja składowych pojedynczej opinii\n",
    "\n",
    "|Składowa|Selektor|Zmienna|\n",
    "|--------|--------|--------|\n",
    "|id opinii|[\"data-entry-id\"]|opinion_id|\n",
    "|autor|span.user-post__author-name|author|\n",
    "|rekomendacja|span.user-post__author-recomendation > em|recommendation|\n",
    "|gwiazdki|span.user-post__score-count|rating|\n",
    "|treść|div.user-post__text|content|\n",
    "|lista zalet|div.review-feature__title--positives ~ div.review-feature__item|pros|\n",
    "|lista wad|div.review-feature__title--negatives ~ div.review-feature__item|cons|\n",
    "|dla ilu przydatna|button.vote-yes > span|useful|\n",
    "|dla ilu nieprzydatna|button.vote-no > span|useless|\n",
    "|data wystawienia|(\".user-post__published > time:nth-child(1)\")[\"datetime\"]|publish_date|\n",
    "|data zakupu|(\".user-post__published > time:nth-child(2)\")[\"datetime\"]|purchase_date|"
   ]
  },
  {
   "cell_type": "code",
   "execution_count": null,
   "metadata": {},
   "outputs": [],
   "source": [
    "opinion_id = opinion[\"data-entry-id\"]\n",
    "author = opinion.select_one(\"span.user-post__author-name\")\n",
    "recommendation = opinion.select_one(\"span.user-post__author-recomendation > em\")\n",
    "rating = opinion.select_one(\"span.user-post__score-count\")\n",
    "content = opinion.select_one(\"div.user-post__text\")\n",
    "pros = opinion.select(\"div.review-feature__title--positives ~ div.review-feature__item\")\n",
    "cons = opinion.select(\"div.review-feature__title--negatives ~ div.review-feature__item\")\n",
    "useful = opinion.select_one(\"button.vote-yes > span\")\n",
    "useless = opinion.select_one(\"button.vote-no > span\")\n",
    "publish_date = opinion.select_one(\"span.user-post__published > time:nth-child(1)\")[\"datetime\"]\n",
    "purchase_date = opinion.select_one(\"span.user-post__published > time:nth-child(2)\")[\"datetime\"]\n",
    "print(opinion_id)\n",
    "print(author)\n",
    "print(recommendation)\n",
    "print(rating)\n",
    "print(pros)\n",
    "print(cons)\n",
    "print(useful)\n",
    "print(useless)\n",
    "print(publish_date)\n",
    "print(purchase_date)"
   ]
  }
 ],
 "metadata": {
  "kernelspec": {
   "display_name": ".venv",
   "language": "python",
   "name": "python3"
  },
  "language_info": {
   "codemirror_mode": {
    "name": "ipython",
    "version": 3
   },
   "file_extension": ".py",
   "mimetype": "text/x-python",
   "name": "python",
   "nbconvert_exporter": "python",
   "pygments_lexer": "ipython3",
   "version": "3.10.0"
  },
  "orig_nbformat": 4
 },
 "nbformat": 4,
 "nbformat_minor": 2
}
